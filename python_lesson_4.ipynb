{
  "cells": [
    {
      "cell_type": "markdown",
      "metadata": {
        "id": "2gQRg1zJsXAz"
      },
      "source": [
        "# Object-Oriented-Programming (OOP)"
      ]
    },
    {
      "cell_type": "markdown",
      "metadata": {
        "id": "0OlLNreksXA7"
      },
      "source": [
        "## Tasks Today:\n",
        "\n",
        "   \n",
        "\n",
        "1) <b>Creating a Class (Initializing/Declaring)</b> <br>\n",
        "2) <b>Using a Class (Instantiating)</b> <br>\n",
        " &nbsp;&nbsp;&nbsp;&nbsp; a) Creating One Instance <br>\n",
        " &nbsp;&nbsp;&nbsp;&nbsp; b) Creating Multiple Instances <br>\n",
        " &nbsp;&nbsp;&nbsp;&nbsp; c) In-Class Exercise #1 - Create a Class 'Car' and instantiate three different makes of cars <br>\n",
        "3) <b>The \\__init\\__() Method</b> <br>\n",
        " &nbsp;&nbsp;&nbsp;&nbsp; a) The 'self' Attribute <br>\n",
        "4) <b>Class Attributes</b> <br>\n",
        " &nbsp;&nbsp;&nbsp;&nbsp; a) Initializing Attributes <br>\n",
        " &nbsp;&nbsp;&nbsp;&nbsp; b) Setting an Attribute Outside of the \\__init\\__() Method <br>\n",
        " &nbsp;&nbsp;&nbsp;&nbsp; c) Setting Defaults for Attributes <br>\n",
        " &nbsp;&nbsp;&nbsp;&nbsp; d) Accessing Class Attributes <br>\n",
        " &nbsp;&nbsp;&nbsp;&nbsp; e) Changing Class Attributes <br>\n",
        " &nbsp;&nbsp;&nbsp;&nbsp; f) In-Class Exercise #2 - Add a color and wheels attribute to your 'Car' class <br>\n",
        "5) <b>Class Methods</b> <br>\n",
        " &nbsp;&nbsp;&nbsp;&nbsp; a) Creating <br>\n",
        " &nbsp;&nbsp;&nbsp;&nbsp; b) Calling <br>\n",
        " &nbsp;&nbsp;&nbsp;&nbsp; c) Modifying an Attribute's Value Through a Method <br>\n",
        " &nbsp;&nbsp;&nbsp;&nbsp; d) Incrementing an Attribute's Value Through a Method <br>\n",
        " &nbsp;&nbsp;&nbsp;&nbsp; e) In-Class Exercise #3 - Add a method that prints the cars color and wheel number, then call them <br>\n",
        "6) <b>Inheritance</b> <br>\n",
        " &nbsp;&nbsp;&nbsp;&nbsp; a) Syntax for Inheriting from a Parent Class <br>\n",
        " &nbsp;&nbsp;&nbsp;&nbsp; b) The \\__init\\__() Method for a Child Class (super()) <br>\n",
        " &nbsp;&nbsp;&nbsp;&nbsp; c) Defining Attributes and Methods for the Child Class <br>\n",
        " &nbsp;&nbsp;&nbsp;&nbsp; d) Method Overriding <br>\n",
        " &nbsp;&nbsp;&nbsp;&nbsp; e) In-Class Exercise #4 - Create a class 'Ford' that inherits from 'Car' class and initialize it as a Blue Ford Explorer with 4 wheels using the super() method <br>\n",
        "7) <b>Classes as Attributes</b> <br>\n",
        "8) <b>Exercises</b> <br>\n",
        " &nbsp;&nbsp;&nbsp;&nbsp; a) Exercise #1 - Turn the shopping cart program from yesterday into an object-oriented program <br>"
      ]
    },
    {
      "cell_type": "markdown",
      "metadata": {
        "id": "5hxJwHjPsXA-"
      },
      "source": [
        "## Creating a Class (Initializing/Declaring)\n",
        "<p>When creating a class, function, or even a variable you are initializing that object. Initializing and Declaring occur at the same time in Python, whereas in lower level languages you have to declare an object before initializing it. This is the first step in the process of using a class.</p>"
      ]
    },
    {
      "cell_type": "code",
      "execution_count": null,
      "metadata": {
        "id": "uJyY5dZ6sXBA"
      },
      "outputs": [],
      "source": [
        "class Car():\n",
        "    wheels = 4\n",
        "    color = 'blue'"
      ]
    },
    {
      "cell_type": "markdown",
      "metadata": {
        "id": "PIq2qPnYsXBC"
      },
      "source": [
        "## Using a Class (Instantiating)\n",
        "<p>The process of creating a class is called <i>Instantiating</i>. Each time you create a variable of that type of class, it is referred to as an <i>Instance</i> of that class. This is the second step in the process of using a class.</p>"
      ]
    },
    {
      "cell_type": "markdown",
      "metadata": {
        "id": "a5hbZVQvsXBC"
      },
      "source": [
        "##### Creating One Instance"
      ]
    },
    {
      "cell_type": "code",
      "execution_count": null,
      "metadata": {
        "colab": {
          "base_uri": "https://localhost:8080/"
        },
        "id": "ED8iUEmFsXBD",
        "outputId": "a0c08701-30b4-47d3-f03e-132b654a27a9"
      },
      "outputs": [
        {
          "output_type": "stream",
          "name": "stdout",
          "text": [
            "4\n"
          ]
        }
      ],
      "source": [
        "ford = Car()\n",
        "print(ford.wheels)"
      ]
    },
    {
      "cell_type": "markdown",
      "metadata": {
        "id": "GWDmqj-ksXBE"
      },
      "source": [
        "##### Creating Multiple Instances"
      ]
    },
    {
      "cell_type": "code",
      "execution_count": null,
      "metadata": {
        "colab": {
          "base_uri": "https://localhost:8080/"
        },
        "id": "J8680aWQsXBE",
        "outputId": "1ba0f572-1065-4f00-89b4-3cde434f800f"
      },
      "outputs": [
        {
          "output_type": "stream",
          "name": "stdout",
          "text": [
            "<class 'str'>\n"
          ]
        }
      ],
      "source": [
        "chevy = Car()\n",
        "honda = Car()\n",
        "porsche = Car()\n",
        "\n",
        "print(type(porsche.color))\n",
        "#print(porsche.bumper)"
      ]
    },
    {
      "cell_type": "markdown",
      "metadata": {
        "id": "VS6mznq2sXBF"
      },
      "source": [
        "##### In-Class Exercise #1 - Create a Class 'Car' and Instantiate three different makes of cars"
      ]
    },
    {
      "cell_type": "code",
      "execution_count": null,
      "metadata": {
        "colab": {
          "base_uri": "https://localhost:8080/"
        },
        "id": "ol2H5ZfEsXBG",
        "outputId": "e2192770-ba8c-4e59-972b-acba87e7505b"
      },
      "outputs": [
        {
          "output_type": "stream",
          "name": "stdout",
          "text": [
            "black\n",
            "200\n",
            "4\n"
          ]
        }
      ],
      "source": [
        "class Car():\n",
        "    wheels = 4\n",
        "    top_speed_mph = 200\n",
        "    color = 'black'\n",
        "\n",
        "toyota = Car()\n",
        "subaru = Car()\n",
        "dodge = Car()\n",
        "\n",
        "print(dodge.color)\n",
        "print(toyota.top_speed_mph)\n",
        "print(subaru.wheels)\n",
        "\n",
        "\n"
      ]
    },
    {
      "cell_type": "markdown",
      "metadata": {
        "id": "AvJl9zpCsXBG"
      },
      "source": [
        "## The \\__init\\__() Method <br>\n",
        "<p>This method is used in almost every created class, and called only once upon the creation of the class instance. This method will initialize all variables needed for the object.</p>"
      ]
    },
    {
      "cell_type": "code",
      "execution_count": null,
      "metadata": {
        "colab": {
          "base_uri": "https://localhost:8080/"
        },
        "id": "BkDaRsZBsXBH",
        "outputId": "534a8afc-c453-444f-88e0-ead22be6f5f1"
      },
      "outputs": [
        {
          "output_type": "stream",
          "name": "stdout",
          "text": [
            "4\n",
            "6\n"
          ]
        }
      ],
      "source": [
        "class Car():\n",
        "    engine = '4.7L' # constant attribute\n",
        "\n",
        "    def __init__(self, wheels, color):\n",
        "      self.wheels = wheels\n",
        "      self.color = color\n",
        "\n",
        "ford = Car(4, 'red')\n",
        "chevy = Car(6, 'black')\n",
        "\n",
        "print(ford.wheels)\n",
        "print(chevy.wheels)"
      ]
    },
    {
      "cell_type": "markdown",
      "metadata": {
        "id": "7nV0AQSUsXBH"
      },
      "source": [
        "##### The 'self' Attribute <br>\n",
        "<p>This attribute is required to keep track of specific instance's attributes. Without the self attribute, the program would not know how to reference or keep track of an instance's attributes.</p>"
      ]
    },
    {
      "cell_type": "code",
      "execution_count": null,
      "metadata": {
        "id": "7baft2EVsXBI"
      },
      "outputs": [],
      "source": [
        "# see above"
      ]
    },
    {
      "cell_type": "markdown",
      "metadata": {
        "id": "gn4ckyzwsXBJ"
      },
      "source": [
        "## Class Attributes <br>\n",
        "<p>While variables are inside of a class, they are referred to as attributes and not variables. When someone says 'attribute' you know they're speaking about a class. Attributes can be initialized through the init method, or outside of it.</p>"
      ]
    },
    {
      "cell_type": "markdown",
      "metadata": {
        "id": "vYjUNYD_sXBK"
      },
      "source": [
        "##### Initializing Attributes"
      ]
    },
    {
      "cell_type": "code",
      "execution_count": null,
      "metadata": {
        "id": "vJX_3GNqsXBK"
      },
      "outputs": [],
      "source": [
        "class Toy():\n",
        "  kind = 'car'\n",
        "\n",
        "  def __init__(self, rooftop, horn, wheels = 4):\n",
        "    self.rooftop = rooftop\n",
        "    self.horn = horn\n",
        "    self.wheels = wheels\n",
        "\n",
        "\n",
        "tonka_truck = Toy(1, 1)\n",
        "hot_wheels_car = Toy(2, 3, 8)\n",
        "\n"
      ]
    },
    {
      "cell_type": "markdown",
      "metadata": {
        "id": "-HnTCY-UsXBL"
      },
      "source": [
        "##### Accessing Class Attributes"
      ]
    },
    {
      "cell_type": "code",
      "execution_count": null,
      "metadata": {
        "scrolled": true,
        "colab": {
          "base_uri": "https://localhost:8080/"
        },
        "id": "b28l_MMusXBL",
        "outputId": "71d84280-a79a-446b-8380-43260e74821d"
      },
      "outputs": [
        {
          "output_type": "stream",
          "name": "stdout",
          "text": [
            "1\n",
            "8\n"
          ]
        }
      ],
      "source": [
        "print(tonka_truck.horn)\n",
        "print(hot_wheels_car.wheels)\n"
      ]
    },
    {
      "cell_type": "markdown",
      "metadata": {
        "id": "l0375X5YsXBM"
      },
      "source": [
        "##### Setting Defaults for Attributes"
      ]
    },
    {
      "cell_type": "code",
      "execution_count": null,
      "metadata": {
        "colab": {
          "base_uri": "https://localhost:8080/"
        },
        "id": "B5Z65IdHsXBM",
        "outputId": "52596a2c-e4f4-4137-b173-3bf1ad1e02e6"
      },
      "outputs": [
        {
          "output_type": "stream",
          "name": "stdout",
          "text": [
            "White\n",
            "4\n",
            "5.4L\n"
          ]
        }
      ],
      "source": [
        "class Car():\n",
        "    engine = '4.7L'\n",
        "\n",
        "    def __init__(self, wheels):\n",
        "      self.wheels = wheels\n",
        "      self.color = 'Blue' # cannot overwrite this attribute now\n",
        "\n",
        "honda = Car(4)\n",
        "honda.color = 'White'\n",
        "print(honda.color)\n",
        "print(honda.wheels)\n",
        "honda.engine = '5.4L'\n",
        "print(honda.engine)"
      ]
    },
    {
      "cell_type": "markdown",
      "metadata": {
        "id": "oENU3g-ssXBN"
      },
      "source": [
        "##### Changing Class Attributes <br>\n",
        "<p>Keep in mind there are global class attributes and then there are attributes only available to each class instance which won't effect other classes.</p>"
      ]
    },
    {
      "cell_type": "code",
      "execution_count": null,
      "metadata": {
        "id": "mo_1JdrTsXBN"
      },
      "outputs": [],
      "source": [
        "#see above"
      ]
    },
    {
      "cell_type": "code",
      "execution_count": null,
      "metadata": {
        "id": "gmRvkuM-sXBN"
      },
      "outputs": [],
      "source": []
    },
    {
      "cell_type": "markdown",
      "metadata": {
        "id": "8MMee4n7sXBO"
      },
      "source": [
        "##### In-Class Exercise #2 - Add a doors and seats attribute to your 'Car' class then print out two different instances with different doors and seats"
      ]
    },
    {
      "cell_type": "code",
      "execution_count": null,
      "metadata": {
        "colab": {
          "base_uri": "https://localhost:8080/"
        },
        "id": "ZLBozxUVsXBO",
        "outputId": "cfba8f73-32a7-4c50-f700-7a8da3444bda"
      },
      "outputs": [
        {
          "output_type": "stream",
          "name": "stdout",
          "text": [
            "The Ferrari has a top speed of 211 mph.\n",
            "2\n",
            "2\n",
            "The Mercedes has a top speed of 193 mph.\n",
            "4\n",
            "4\n"
          ]
        }
      ],
      "source": [
        "class Car():\n",
        "  \"\"\"simple attempt to model a car\"\"\"\n",
        "\n",
        "  def __init__(self, wheels, top_speed_mph, doors, seats, color):\n",
        "    self.wheels = wheels\n",
        "    self.top_speed_mph = top_speed_mph\n",
        "    self.doors = doors\n",
        "    self.seats = seats\n",
        "    self.color = color\n",
        "\n",
        "ferrari = Car(4, 211, 2, 2, 'red')\n",
        "mercedes = Car(4, 193, 4, 4, 'silver')\n",
        "\n",
        "print(\"The Ferrari has a top speed of \" + str(ferrari.top_speed_mph) + \" mph.\")\n",
        "print(ferrari.doors)\n",
        "print(ferrari.seats)\n",
        "\n",
        "print(\"The Mercedes has a top speed of \" + str(mercedes.top_speed_mph) + \" mph.\")\n",
        "print(mercedes.doors)\n",
        "print(mercedes.seats)\n",
        "\n",
        "\n"
      ]
    },
    {
      "cell_type": "markdown",
      "metadata": {
        "id": "3rmcSRS6sXBO"
      },
      "source": [
        "## Class Methods <br>\n",
        "<p>While inside of a class, functions are referred to as 'methods'. If you hear someone mention methods, they're speaking about classes. Methods are essentially functions, but only callable on the instances of a class.</p>"
      ]
    },
    {
      "cell_type": "markdown",
      "metadata": {
        "id": "k9LcbQhisXBO"
      },
      "source": [
        "##### Creating"
      ]
    },
    {
      "cell_type": "code",
      "execution_count": null,
      "metadata": {
        "id": "Be6uSrpYsXBP"
      },
      "outputs": [],
      "source": [
        "class ShoppingBag():\n",
        "  \"\"\"\n",
        "  The ShoppingBag class will have handles, capacity,\n",
        "  and items to place inside.\n",
        "\n",
        "  Attributes for the class:\n",
        "  -handles: expected to be an integer\n",
        "  -capacity: expected to be an integer\n",
        "  -items: expected to be a list\n",
        "  \"\"\"\n",
        "\n",
        "  def __init__(self,handles, items = [], capacity = 10):\n",
        "    self.handles = handles\n",
        "    self.capacity = capacity\n",
        "    self.items = items\n",
        "\n",
        "  def showShoppingBag(self):\n",
        "    if len(self.items) == 0:\n",
        "      print(\"You have no items in your bag!\")\n",
        "    else:\n",
        "      print(\"You have items in your bag!!!\")\n",
        "      for item in self.items:\n",
        "        print(item)\n",
        "\n",
        "  def showCapacity(self):\n",
        "    print(f\"Your capacity is: {self.capacity - len(self.items)}\")\n",
        "\n",
        "  def addToShoppingBag(self):\n",
        "    if len(self.items) == self.capacity:\n",
        "      print(\"You have no room!\")\n",
        "    else:\n",
        "      product = input(\"What would you like to add? \")\n",
        "      self.items.append(product)\n",
        "\n",
        "  def showHandles(self):\n",
        "    print(f\"You have {self.handles} handles on your bag\")\n",
        "\n",
        "  \n"
      ]
    },
    {
      "cell_type": "markdown",
      "metadata": {
        "id": "-90rAYiusXBP"
      },
      "source": [
        "##### Calling"
      ]
    },
    {
      "cell_type": "code",
      "execution_count": null,
      "metadata": {
        "id": "c9xdXQitsXBQ"
      },
      "outputs": [],
      "source": [
        "whole_foods_bag = ShoppingBag(2)\n",
        "\n",
        "def run():\n",
        "  while True:\n",
        "    response = input(\"What would you like to do?\\n\\nYou may:\\n-Add\\n-Show\\n-Quit\")\n",
        "    if response.lower() == 'quit':\n",
        "      whole_foods_bag.showShoppingBag()\n",
        "      print(\"Thanks for shopping!\")\n",
        "      break\n",
        "    elif response.lower() == 'add':\n",
        "      whole_foods_bag.addToShoppingBag()\n",
        "    elif response.lower() == 'show':\n",
        "      showChoice = input(\"What would you like to see: \\n-Capacity\\n-Handles\\n-Shopping Bag\")\n",
        "      if showChoice.lower() == 'capacity':\n",
        "        whole_foods_bag.showCapacity()\n",
        "      elif showChoice.lower == 'handles':\n",
        "        whole_foods_bag.showHandles()\n",
        "      else:\n",
        "        whole_foods_bag.showShoppingBag()\n",
        "    else:\n",
        "      print(\"That is not a valid option. Please enter add, show, or quit.\")\n",
        "\n",
        "run()"
      ]
    },
    {
      "cell_type": "markdown",
      "metadata": {
        "id": "TD9euVB5sXBQ"
      },
      "source": [
        "##### Modifying an Attribute's Value Through a Method"
      ]
    },
    {
      "cell_type": "code",
      "execution_count": null,
      "metadata": {
        "id": "matDpRpFsXBQ"
      },
      "outputs": [],
      "source": []
    },
    {
      "cell_type": "markdown",
      "metadata": {
        "id": "HwErGAGPsXBQ"
      },
      "source": [
        "##### Incrementing an Attribute's Value Through a Method"
      ]
    },
    {
      "cell_type": "code",
      "execution_count": null,
      "metadata": {
        "id": "EoEg6kr1sXBR"
      },
      "outputs": [],
      "source": []
    },
    {
      "cell_type": "markdown",
      "metadata": {
        "id": "GuiEX5KOsXBR"
      },
      "source": [
        "##### In-Class Exercise #3 - Add a method that takes in three parameters of year, doors and seats and prints out a formatted print statement with make, model, year, seats, and doors"
      ]
    },
    {
      "cell_type": "code",
      "execution_count": null,
      "metadata": {
        "id": "ItkSCfzrsXBR",
        "colab": {
          "base_uri": "https://localhost:8080/"
        },
        "outputId": "370b0f15-80ba-41f7-8771-4d4f72f18c9e"
      },
      "outputs": [
        {
          "output_type": "stream",
          "name": "stdout",
          "text": [
            "This car is from 1965 and is a Ford Mustang, it has 2 doors and 4 seats.\n",
            "This car is from 2011 and is a Jeep Compass, it has 4 doors and 5 seats.\n"
          ]
        }
      ],
      "source": [
        "# Create class with 2 paramters inside of the __init__ which are make and model\n",
        "\n",
        "# Inside of the Car class create a method that has 4 parameter in total (self,year,door,seats)\n",
        "\n",
        "# Output: This car is from 2019 and is a Ford Expolorer and has 4 doors and 5 seats\n",
        "\n",
        "class Car():\n",
        "  \"\"\"Creating simple description of a car's characteristics\"\"\"\n",
        "  def __init__(self, make, model):\n",
        "    self.make = make\n",
        "    self.model = model\n",
        "\n",
        "  def carDetails(self, year, doors, seats):\n",
        "    print(f\"This car is from {str(year)} and is a {self.make.title()} {self.model.title()},\"\n",
        "    f\" it has {str(doors)} doors and {str(seats)} seats.\")\n",
        "\n",
        "car_1 = Car('ford', 'mustang')\n",
        "car_2 = Car('jeep', 'compass')\n",
        "\n",
        "car_1.carDetails(1965, 2, 4)\n",
        "car_2.carDetails(2011, 4, 5)\n",
        "\n",
        "\n"
      ]
    },
    {
      "cell_type": "markdown",
      "metadata": {
        "id": "SZM1CoSFsXBS"
      },
      "source": [
        "## Inheritance <br>\n",
        "<p>You can create a child-parent relationship between two classes by using inheritance. What this allows you to do is have overriding methods, but also inherit traits from the parent class. Think of it as an actual parent and child, the child will inherit the parent's genes, as will the classes in OOP</p>"
      ]
    },
    {
      "cell_type": "markdown",
      "metadata": {
        "id": "tTuk1JAesXBS"
      },
      "source": [
        "##### Syntax for Inheriting from a Parent Class"
      ]
    },
    {
      "cell_type": "code",
      "execution_count": null,
      "metadata": {
        "id": "qFAzF86vsXBS"
      },
      "outputs": [],
      "source": []
    },
    {
      "cell_type": "markdown",
      "metadata": {
        "id": "U-QCo6KasXBT"
      },
      "source": [
        "##### The \\__init\\__() Method for a Child Class - super()"
      ]
    },
    {
      "cell_type": "code",
      "execution_count": null,
      "metadata": {
        "scrolled": true,
        "id": "JZCq6xnfsXBT"
      },
      "outputs": [],
      "source": []
    },
    {
      "cell_type": "markdown",
      "metadata": {
        "id": "EUQbLhhIsXBT"
      },
      "source": [
        "##### Defining Attributes and Methods for the Child Class"
      ]
    },
    {
      "cell_type": "code",
      "execution_count": null,
      "metadata": {
        "id": "Z8yLpQK8sXBT"
      },
      "outputs": [],
      "source": [
        "# See Above"
      ]
    },
    {
      "cell_type": "markdown",
      "metadata": {
        "id": "w7TVAFGssXBT"
      },
      "source": [
        "##### Method Overriding"
      ]
    },
    {
      "cell_type": "code",
      "execution_count": null,
      "metadata": {
        "id": "ZiiWeE0msXBU"
      },
      "outputs": [],
      "source": [
        "# See Above"
      ]
    },
    {
      "cell_type": "markdown",
      "metadata": {
        "id": "ATIQzYS9sXBU"
      },
      "source": [
        "## Classes as Attributes <br>\n",
        "<p>Classes can also be used as attributes within another class. This is useful in situations where you need to keep variables locally stored, instead of globally stored.</p>"
      ]
    },
    {
      "cell_type": "code",
      "execution_count": null,
      "metadata": {
        "id": "uGC5CYScsXBU"
      },
      "outputs": [],
      "source": []
    },
    {
      "cell_type": "markdown",
      "metadata": {
        "id": "m5jVGJ6fsXBU"
      },
      "source": [
        "# Exercises"
      ]
    },
    {
      "cell_type": "markdown",
      "metadata": {
        "id": "ojsoki38sXBV"
      },
      "source": [
        "### Exercise 1 - Turn the shopping cart program from yesterday into an object-oriented program\n",
        "\n",
        "The comments in the cell below are there as a guide for thinking about the problem. However, if you feel a different way is best for you and your own thought process, please do what feels best for you by all means."
      ]
    },
    {
      "cell_type": "code",
      "execution_count": null,
      "metadata": {
        "id": "uvgCrOF5sXBV"
      },
      "outputs": [],
      "source": [
        "# Create a class called cart that retains items and has methods to add, remove, and show\n",
        "\n",
        "\n",
        "class ShopCart():\n",
        "    \"\"\"\n",
        "    ShopCart class will allow user to add or remove items to a list\n",
        "    which they will be able to view at anytime\n",
        "\n",
        "    Attributes for the class:\n",
        "        -items = expected to be a list\n",
        "        -capacity = expected to be an integer\n",
        "    \"\"\"\n",
        "\n",
        "    def __init__(self, items = [], capacity = 500):\n",
        "      self.items = items\n",
        "      self.capacity = capacity\n",
        "\n",
        "    def viewShopCart(self):\n",
        "      if len(self.items) >= (self.capacity - 5):\n",
        "        print(\"Attention: Approaching Max Capacity (500)\\n\")\n",
        "      print(\"\\nSHOPPING CART: \\n\")\n",
        "      for i in self.items:\n",
        "        print(i.title())\n",
        "\n",
        "    \n",
        "    def addToShopCart(self):\n",
        "      if len(self.items) == self.capacity:\n",
        "        print(\"\\nHate to break it to you but you have a shopping problem,\"\n",
        "        \" seek help immediately\\n\")\n",
        "      else:\n",
        "        while True:\n",
        "          item = input(\"\\nWhat item would you like to add to your Shopping Cart?\"\n",
        "          \"\\n(type 'return' to return to Main Menu)\\n\")\n",
        "          if item.lower() == 'return':\n",
        "            break\n",
        "          else:\n",
        "            self.items.append(item.lower())\n",
        "            print(f\"\\nSuccessfully added {item.lower()} to shopping list\\n\")\n",
        "\n",
        "    def delFromShopCart(self):\n",
        "      if len(self.items) == 0:\n",
        "        print(\"You have no items to delete.\")\n",
        "      else:\n",
        "        while True:\n",
        "          remove_item = input(\"\\nWhat item would you like to delete from your\"\n",
        "          \" Shopping Cart?\\n(type 'clear' to delete entire list or 'return' to go back to main menu)\\n\")\n",
        "          if remove_item.lower() == 'return':\n",
        "            break \n",
        "          elif remove_item.lower() == 'clear':\n",
        "            self.items.clear()\n",
        "            print(\"\\nShopping Cart is now EMPTY\")\n",
        "            break\n",
        "          elif remove_item.lower() not in self.items:\n",
        "            print(\"\\nERROR: item doesn't seem to be in Shopping Cart.\\n\")\n",
        "          else:\n",
        "            self.items.remove(remove_item.lower())\n",
        "            print(f\"\\nSuccessfully deleted {remove_item.lower()} from list\\n\")\n",
        "\n",
        "\n",
        "office_depot = ShopCart()\n",
        "\n",
        "def shopping():\n",
        "  while True:\n",
        "    intro = input(\"\\nWelcome to your Shopping Cart!\\n\\nWould you like to:\\n-Add\"\n",
        "    \"\\n-Delete\\n-View\\n-Exit \\n\")\n",
        "    if intro.lower() == 'exit':\n",
        "      break\n",
        "    elif intro.lower() == 'add':\n",
        "      office_depot.addToShopCart()\n",
        "    elif intro.lower() == 'view':\n",
        "      office_depot.viewShopCart()\n",
        "    elif intro.lower() == 'delete':\n",
        "      office_depot.delFromShopCart()\n",
        "    else:\n",
        "      print(\"ERROR not valid input (add, view, delete, or exit).\")\n",
        "\n",
        "\n",
        "\n",
        "shopping()\n",
        "\n",
        "      \n",
        "\n",
        "\n",
        "\n",
        "      \n",
        "\n",
        "    "
      ]
    },
    {
      "cell_type": "markdown",
      "metadata": {
        "id": "jARhzfj2sXBV"
      },
      "source": [
        "### Exercise 2 - Write a Python class which has two methods get_String and print_String. get_String accept a string from the user and print_String print the string in upper case"
      ]
    },
    {
      "cell_type": "code",
      "execution_count": null,
      "metadata": {
        "id": "GmqQJAnEsXBW",
        "colab": {
          "base_uri": "https://localhost:8080/"
        },
        "outputId": "3ad85c9f-ce07-4eec-81c8-9a0c15824729"
      },
      "outputs": [
        {
          "output_type": "stream",
          "name": "stdout",
          "text": [
            "Type anything and I'll yell in all caps back to you. hey there no need to yell anything sir\n",
            "HEY THERE NO NEED TO YELL ANYTHING SIR!\n"
          ]
        }
      ],
      "source": [
        "\n",
        "class Python():\n",
        "  \"\"\"to accept a string from user and print out the input\"\"\"\n",
        "  def __init__(self, squawk = \" \"):\n",
        "    self.squawk = squawk\n",
        "\n",
        "  def get_String(self):\n",
        "    self.squawk = input(\"Type anything and I'll yell in all caps back to you. \")\n",
        "\n",
        "  def print_String(self):\n",
        "    print(self.squawk.upper() + \"!\")\n",
        "\n",
        "\n",
        "parrot_1 = Python()\n",
        "parrot_1.get_String()\n",
        "parrot_1.print_String()\n",
        "\n",
        "\n",
        "  "
      ]
    }
  ],
  "metadata": {
    "kernelspec": {
      "display_name": "Python 3 (ipykernel)",
      "language": "python",
      "name": "python3"
    },
    "language_info": {
      "codemirror_mode": {
        "name": "ipython",
        "version": 3
      },
      "file_extension": ".py",
      "mimetype": "text/x-python",
      "name": "python",
      "nbconvert_exporter": "python",
      "pygments_lexer": "ipython3",
      "version": "3.9.12"
    },
    "colab": {
      "provenance": [],
      "collapsed_sections": []
    }
  },
  "nbformat": 4,
  "nbformat_minor": 0
}